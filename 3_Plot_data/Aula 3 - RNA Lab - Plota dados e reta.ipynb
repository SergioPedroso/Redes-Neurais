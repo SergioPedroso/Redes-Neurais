{
 "cells": [
  {
   "cell_type": "markdown",
   "metadata": {
    "id": "UBX4dOI7BE70"
   },
   "source": [
    "**Função Lógica AND**"
   ]
  },
  {
   "cell_type": "code",
   "execution_count": 1,
   "metadata": {
    "executionInfo": {
     "elapsed": 11,
     "status": "ok",
     "timestamp": 1697672617831,
     "user": {
      "displayName": "Sérgio Pedroso",
      "userId": "14586770551610741134"
     },
     "user_tz": 180
    },
    "id": "b5QN1V1gBQc-"
   },
   "outputs": [],
   "source": [
    "## IMPORTAR BIBLIOTECAS\n",
    "import numpy as np\n",
    "import matplotlib.pyplot as plt"
   ]
  },
  {
   "cell_type": "code",
   "execution_count": 3,
   "metadata": {
    "executionInfo": {
     "elapsed": 10,
     "status": "ok",
     "timestamp": 1697672617831,
     "user": {
      "displayName": "Sérgio Pedroso",
      "userId": "14586770551610741134"
     },
     "user_tz": 180
    },
    "id": "cwulnqgKA7DS"
   },
   "outputs": [],
   "source": [
    "## DECLARAÇÃO DA FUNÇÃO\n",
    "# Cria o perceptron\n",
    "def yperceptron(W,b,X):\n",
    "  # Calcula a função aditiva, multiplicando a matriz de peso (W) pela matriz de entradas\n",
    "  u = np.dot(W,X) + b\n",
    "  # Loop for para percorrer a matriz e aplicar a função de ativação, neste caso sendo a função degrau/limiar\n",
    "  for i in range(u.shape[1]):\n",
    "      if u[0, i] >= 0:\n",
    "          u[0, i] = 1\n",
    "      else:\n",
    "          u[0, i] = 0\n",
    "  return u\n",
    "\n",
    "\n",
    "# Função de treinamento do Perceptron\n",
    "def treina_perceptron(W,b,X,yd,alfa,maxepocas,tol):\n",
    "  epoca = 1\n",
    "  N = X.shape[1] # Número de amostras na matriz de dados\n",
    "  print(f'N = {N}')\n",
    "  SEQ = tol # Declaração necessária para ultrapassar primeira validação do loop while abaixo\n",
    "  vetor_seq = []\n",
    "  while (epoca <= maxepocas and SEQ >= tol):\n",
    "    SEQ = 0\n",
    "    for i in range(0,N):\n",
    "      y = yperceptron(W,b,X[:,i])\n",
    "      erro = yd[0,i] - y\n",
    "\n",
    "      # Regra delta/Gradiente descendente\n",
    "      W = W + alfa * erro * X[:,i].T # Calcular novos pesos W\n",
    "      b = b + alfa * erro # Calcular novo bias\n",
    "      SEQ = SEQ + erro**2 # Somatório dos erros quadráticos\n",
    "    print(f'SEQ = {SEQ[0]} na Epoca {epoca}')\n",
    "    epoca = epoca + 1\n",
    "    vetor_seq.append(SEQ[0])\n",
    "  W = W.reshape(1, 2)\n",
    "  return [W,b,vetor_seq]\n",
    "\n",
    "def plotadc2d(X,y):\n",
    "  plt.scatter(X[0,:],X[1,:],c=y[0,:])\n",
    "\n",
    "def plotareta(W,b,intervalo):\n",
    "  x1 = np.linspace(intervalo[0],intervalo[1],num=10)\n",
    "  x2 = -(W[0,0]*x1+b)/W[0,1]\n",
    "  plt.plot(x1.T,x2.T,'b-')"
   ]
  },
  {
   "cell_type": "code",
   "execution_count": 4,
   "metadata": {
    "colab": {
     "base_uri": "https://localhost:8080/"
    },
    "executionInfo": {
     "elapsed": 10,
     "status": "ok",
     "timestamp": 1697672617832,
     "user": {
      "displayName": "Sérgio Pedroso",
      "userId": "14586770551610741134"
     },
     "user_tz": 180
    },
    "id": "WjhsJQZ-BTNi",
    "outputId": "7460604c-94b5-4409-d9c0-421b261f087a"
   },
   "outputs": [
    {
     "name": "stdout",
     "output_type": "stream",
     "text": [
      "Número de linhas de X =  2\n",
      "Número de colunas de X =  4 \n",
      "\n"
     ]
    }
   ],
   "source": [
    "## DECLARAÇÃO DAS VARIÁVEIS\n",
    "# A variável X é a matriz com as entradas do Perceptron\n",
    "X = np.array([[0,1,0,1],[0,0,1,1]])\n",
    "print('Número de linhas de X = ',X.shape[0])\n",
    "print('Número de colunas de X = ',X.shape[1],'\\n')\n",
    "\n",
    "yd = np.array([[0.,0.,0.,1.]])\n",
    "\n",
    "alfa = 1.2 # O valor de alfa dita o passo de ajuste dos pesos\n",
    "maxepocas = 10\n",
    "tol = 0.001 # tol é a tolerancia máxima estabelecida para o erro no treinamento\n",
    "\n",
    "W = np.array([np.random.rand(1,2)])*2-1 # Criar variável W com os pesos randômicos entre -1 e 1 (*2-1 é a operação para mover o range do rand de 0 a 1 para -1 a 1)\n",
    "\n",
    "# A variável b é o bias, que tem o objetivo variar a influência das entradas\n",
    "b = 1\n",
    "\n",
    "# Intervalo para plotar a reta de fronteira de decisão\n",
    "intervalo = [-0.2,1.2]"
   ]
  },
  {
   "cell_type": "code",
   "execution_count": 5,
   "metadata": {
    "colab": {
     "base_uri": "https://localhost:8080/"
    },
    "executionInfo": {
     "elapsed": 9,
     "status": "ok",
     "timestamp": 1697672617832,
     "user": {
      "displayName": "Sérgio Pedroso",
      "userId": "14586770551610741134"
     },
     "user_tz": 180
    },
    "id": "80_zQ7VDNwKD",
    "outputId": "7cf5a64b-4e3a-4eba-a125-2128333a9628"
   },
   "outputs": [
    {
     "name": "stdout",
     "output_type": "stream",
     "text": [
      "N = 4\n",
      "SEQ = [3.] na Epoca 1\n",
      "SEQ = [2.] na Epoca 2\n",
      "SEQ = [3.] na Epoca 3\n",
      "SEQ = [2.] na Epoca 4\n",
      "SEQ = [1.] na Epoca 5\n",
      "SEQ = [0.] na Epoca 6\n"
     ]
    }
   ],
   "source": [
    "# Chama a função de treinamento do percepton\n",
    "W,b,vetor_seq = treina_perceptron(W,b,X,yd,alfa,maxepocas,tol)"
   ]
  },
  {
   "cell_type": "code",
   "execution_count": 6,
   "metadata": {
    "colab": {
     "base_uri": "https://localhost:8080/",
     "height": 472
    },
    "executionInfo": {
     "elapsed": 419,
     "status": "ok",
     "timestamp": 1697672618245,
     "user": {
      "displayName": "Sérgio Pedroso",
      "userId": "14586770551610741134"
     },
     "user_tz": 180
    },
    "id": "Ltl83aCUHiiX",
    "outputId": "dc4fe0f7-135b-4558-90f8-743d373c4634"
   },
   "outputs": [
    {
     "data": {
      "image/png": "[encoded data removed]",
      "text/plain": [
       "<Figure size 640x480 with 1 Axes>"
      ]
     },
     "metadata": {},
     "output_type": "display_data"
    }
   ],
   "source": [
    "## Plota SEQ\n",
    "plt.plot(vetor_seq,'r-')\n",
    "plt.xlabel('Epoca')\n",
    "plt.ylabel('SEQ')\n",
    "plt.title('Somatório dos Erros Quadráticos')\n",
    "plt.show()"
   ]
  },
  {
   "cell_type": "code",
   "execution_count": 7,
   "metadata": {
    "colab": {
     "base_uri": "https://localhost:8080/"
    },
    "executionInfo": {
     "elapsed": 10,
     "status": "ok",
     "timestamp": 1697672618245,
     "user": {
      "displayName": "Sérgio Pedroso",
      "userId": "14586770551610741134"
     },
     "user_tz": 180
    },
    "id": "OpFT0OamBYKB",
    "outputId": "913f0345-e61c-4770-fbfc-c41758110652"
   },
   "outputs": [
    {
     "name": "stdout",
     "output_type": "stream",
     "text": [
      "[[0. 0. 0. 1.]]\n"
     ]
    }
   ],
   "source": [
    "# Cálculo da saída do Perceptron\n",
    "y = yperceptron(W,b,X)\n",
    "print(y)"
   ]
  },
  {
   "cell_type": "code",
   "execution_count": 8,
   "metadata": {
    "colab": {
     "base_uri": "https://localhost:8080/",
     "height": 452
    },
    "executionInfo": {
     "elapsed": 401,
     "status": "ok",
     "timestamp": 1697672618640,
     "user": {
      "displayName": "Sérgio Pedroso",
      "userId": "14586770551610741134"
     },
     "user_tz": 180
    },
    "id": "ZhTMawUNOg4Q",
    "outputId": "22530266-03da-462b-f800-eca42a2fe255"
   },
   "outputs": [
    {
     "data": {
      "image/png": "[encoded data removed]",
      "text/plain": [
       "<Figure size 640x480 with 1 Axes>"
      ]
     },
     "metadata": {},
     "output_type": "display_data"
    }
   ],
   "source": [
    "plotadc2d(X,y)\n",
    "plotareta(W,b,intervalo)\n",
    "plt.title('Fronteira de decisão')\n",
    "plt.show()"
   ]
  },
  {
   "cell_type": "markdown",
   "metadata": {
    "id": "a2rJhLlESeRp"
   },
   "source": [
    "**Função Lógica OR**"
   ]
  },
  {
   "cell_type": "code",
   "execution_count": 9,
   "metadata": {
    "id": "UJzmZiJjSg60"
   },
   "outputs": [],
   "source": [
    "# Importa as bibliotecas\n",
    "import numpy as np\n",
    "import matplotlib.pyplot as plt"
   ]
  },
  {
   "cell_type": "code",
   "execution_count": 10,
   "metadata": {
    "id": "0Lhjyb8GSg60"
   },
   "outputs": [],
   "source": [
    "## DECLARAÇÃO DA FUNÇÃO\n",
    "# Cria o perceptron\n",
    "def yperceptron(W,b,X):\n",
    "  # Calcula a função aditiva, multiplicando a matriz de peso (W) pela matriz de entradas\n",
    "  u = np.dot(W,X) + b\n",
    "  # Loop for para percorrer a matriz e aplicar a função de ativação, neste caso sendo a função degrau/limiar\n",
    "  for i in range(u.shape[1]):\n",
    "      if u[0, i] >= 0:\n",
    "          u[0, i] = 1\n",
    "      else:\n",
    "          u[0, i] = 0\n",
    "  return u\n",
    "\n",
    "\n",
    "# Função de treinamento do Perceptron\n",
    "def treina_perceptron(W,b,X,yd,alfa,maxepocas,tol):\n",
    "  epoca = 1\n",
    "  N = X.shape[1] # Número de amostras na matriz de dados\n",
    "  print(f'N = {N}')\n",
    "  SEQ = tol # Declaração necessária para ultrapassar primeira validação do loop while abaixo\n",
    "  vetor_seq = []\n",
    "  while (epoca <= maxepocas and SEQ >= tol):\n",
    "    SEQ = 0\n",
    "    for i in range(0,N):\n",
    "      y = yperceptron(W,b,X[:,i])\n",
    "      erro = yd[0,i] - y\n",
    "\n",
    "      # Regra delta/Gradiente descendente\n",
    "      W = W + alfa * erro * X[:,i].T # Calcular novos pesos mais assertivos para W (.T faz o transposto da matriz)\n",
    "      b = b + alfa * erro # Calcular novo bias mais acertivo\n",
    "      SEQ = SEQ + erro**2 # Somatório dos erros quadráticos\n",
    "    print(f'SEQ = {SEQ[0]} na Epoca {epoca}')\n",
    "    epoca = epoca + 1\n",
    "    vetor_seq.append(SEQ[0])\n",
    "  W = W.reshape(1, 2)\n",
    "  return [W,b,vetor_seq]\n",
    "\n",
    "# Função para plotar os dados de entrada\n",
    "def plotadc2d(X,y):\n",
    "  plt.scatter(X[0,:],X[1,:],c=y[0,:])\n",
    "\n",
    "# Função para plotar a reta de fronteira de decisão\n",
    "def plotareta(W,b,intervalo):\n",
    "  x1 = np.linspace(intervalo[0],intervalo[1],num=10)\n",
    "  # Cria a equação de reta da fronteira de decisão: x1*w1 + x2*w2 + b = 0\n",
    "  x2 = -(W[0,0]*x1+b)/W[0,1]\n",
    "  plt.plot(x1.T,x2.T,'b-')"
   ]
  },
  {
   "cell_type": "code",
   "execution_count": 11,
   "metadata": {
    "colab": {
     "base_uri": "https://localhost:8080/"
    },
    "executionInfo": {
     "elapsed": 462,
     "status": "ok",
     "timestamp": 1697546704122,
     "user": {
      "displayName": "Sérgio Pedroso",
      "userId": "14586770551610741134"
     },
     "user_tz": 180
    },
    "id": "3EkPic8aSg61",
    "outputId": "0e4f452d-032d-46a9-e174-2f5d15c9cbc9"
   },
   "outputs": [
    {
     "name": "stdout",
     "output_type": "stream",
     "text": [
      "Número de linhas de X =  2\n",
      "Número de colunas de X =  4 \n",
      "\n"
     ]
    }
   ],
   "source": [
    "## DECLARAÇÃO DAS VARIÁVEIS\n",
    "# A variável X é a matriz com as entradas do Perceptron\n",
    "X = np.array([[0,1,0,1],[0,0,1,1]])\n",
    "print('Número de linhas de X = ',X.shape[0])\n",
    "print('Número de colunas de X = ',X.shape[1],'\\n')\n",
    "\n",
    "yd = np.array([[0.,1.,1.,1.]])\n",
    "\n",
    "alfa = 1.2 # O valor de alfa dita o passo de ajuste dos pesos\n",
    "maxepocas = 10\n",
    "tol = 0.001 # tol é a tolerancia máxima estabelecida para o erro no treinamento\n",
    "\n",
    "W = np.array([np.random.rand(1,2)])*2-1 # Criar variável W com os pesos randômicos entre -1 e 1 (*2-1 é a operação para mover o range do rand de 0 a 1 para -1 a 1)\n",
    "\n",
    "# A variável b é o bias, que tem o objetivo variar a influência das entradas\n",
    "b = 1\n",
    "\n",
    "# Intervalo para plotar a reta de fronteira de decisão\n",
    "intervalo = [-0.2,1]"
   ]
  },
  {
   "cell_type": "code",
   "execution_count": 12,
   "metadata": {
    "colab": {
     "base_uri": "https://localhost:8080/"
    },
    "executionInfo": {
     "elapsed": 7,
     "status": "ok",
     "timestamp": 1697546704351,
     "user": {
      "displayName": "Sérgio Pedroso",
      "userId": "14586770551610741134"
     },
     "user_tz": 180
    },
    "id": "4gBgLVPFQ49h",
    "outputId": "9613adcc-be48-4e1b-c516-231e597a56b6"
   },
   "outputs": [
    {
     "name": "stdout",
     "output_type": "stream",
     "text": [
      "N = 4\n",
      "SEQ = [1.] na Epoca 1\n",
      "SEQ = [0.] na Epoca 2\n"
     ]
    }
   ],
   "source": [
    "# Chama a função de treinamento do percepton\n",
    "W,b,vetor_seq = treina_perceptron(W,b,X,yd,alfa,maxepocas,tol)"
   ]
  },
  {
   "cell_type": "code",
   "execution_count": 13,
   "metadata": {
    "colab": {
     "base_uri": "https://localhost:8080/",
     "height": 472
    },
    "executionInfo": {
     "elapsed": 629,
     "status": "ok",
     "timestamp": 1697546894400,
     "user": {
      "displayName": "Sérgio Pedroso",
      "userId": "14586770551610741134"
     },
     "user_tz": 180
    },
    "id": "-ATHZBr_Sg62",
    "outputId": "eef909ce-b5f0-441a-e7d8-a833ac7173b0"
   },
   "outputs": [
    {
     "data": {
      "image/png": "[encoded data removed]",
      "text/plain": [
       "<Figure size 640x480 with 1 Axes>"
      ]
     },
     "metadata": {},
     "output_type": "display_data"
    }
   ],
   "source": [
    "## Plota SEQ\n",
    "plt.plot(vetor_seq,'b-')\n",
    "plt.xlabel('Epoca')\n",
    "plt.ylabel('SEQ')\n",
    "plt.title('Somatório dos Erros Quadráticos')\n",
    "plt.show()"
   ]
  },
  {
   "cell_type": "code",
   "execution_count": 14,
   "metadata": {
    "colab": {
     "base_uri": "https://localhost:8080/"
    },
    "executionInfo": {
     "elapsed": 19,
     "status": "ok",
     "timestamp": 1697546704691,
     "user": {
      "displayName": "Sérgio Pedroso",
      "userId": "14586770551610741134"
     },
     "user_tz": 180
    },
    "id": "uq18njUGSg62",
    "outputId": "5aa5ef82-00ec-479c-fc99-46f06fac6487"
   },
   "outputs": [
    {
     "name": "stdout",
     "output_type": "stream",
     "text": [
      "[[0. 1. 1. 1.]]\n"
     ]
    }
   ],
   "source": [
    "# Cálculo da saída do Perceptron\n",
    "y = yperceptron(W,b,X)\n",
    "print(y)"
   ]
  },
  {
   "cell_type": "code",
   "execution_count": 15,
   "metadata": {
    "colab": {
     "base_uri": "https://localhost:8080/",
     "height": 452
    },
    "executionInfo": {
     "elapsed": 422,
     "status": "ok",
     "timestamp": 1697546705101,
     "user": {
      "displayName": "Sérgio Pedroso",
      "userId": "14586770551610741134"
     },
     "user_tz": 180
    },
    "id": "ZvUgqlQhVn8m",
    "outputId": "bb8b25ac-19d3-4568-cf20-1982c8c1a7e2"
   },
   "outputs": [
    {
     "data": {
      "image/png": "[encoded data removed]",
      "text/plain": [
       "<Figure size 640x480 with 1 Axes>"
      ]
     },
     "metadata": {},
     "output_type": "display_data"
    }
   ],
   "source": [
    "plotadc2d(X,y)\n",
    "plotareta(W,b,intervalo)\n",
    "plt.title('Fronteira de decisão')\n",
    "plt.show()"
   ]
  }
 ],
 "metadata": {
  "colab": {
   "authorship_tag": "ABX9TyNI8UDIEvWn+J2n54QrP/Lh",
   "provenance": []
  },
  "kernelspec": {
   "display_name": "base",
   "language": "python",
   "name": "python3"
  },
  "language_info": {
   "codemirror_mode": {
    "name": "ipython",
    "version": 3
   },
   "file_extension": ".py",
   "mimetype": "text/x-python",
   "name": "python",
   "nbconvert_exporter": "python",
   "pygments_lexer": "ipython3",
   "version": "3.12.4"
  }
 },
 "nbformat": 4,
 "nbformat_minor": 0
}
