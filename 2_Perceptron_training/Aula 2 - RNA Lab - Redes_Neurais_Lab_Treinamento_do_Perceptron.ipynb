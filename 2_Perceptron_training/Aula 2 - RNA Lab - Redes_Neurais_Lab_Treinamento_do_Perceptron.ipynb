{
  "cells": [
    {
      "cell_type": "markdown",
      "metadata": {
        "colab_type": "text",
        "id": "view-in-github"
      },
      "source": [
        "<a href=\"https://colab.research.google.com/github/SergioPedroso/Redes-Neurais/blob/main/Aula_4_Redes_Neurais_Lab_Treinamento_do_Perceptron.ipynb\" target=\"_parent\"><img src=\"https://colab.research.google.com/assets/colab-badge.svg\" alt=\"Open In Colab\"/></a>"
      ]
    },
    {
      "cell_type": "markdown",
      "metadata": {
        "id": "UBX4dOI7BE70"
      },
      "source": [
        "**Função Lógica AND**"
      ]
    },
    {
      "cell_type": "code",
      "execution_count": 13,
      "metadata": {
        "id": "b5QN1V1gBQc-"
      },
      "outputs": [],
      "source": [
        "## IMPORTAR BIBLIOTECAS\n",
        "import numpy as np\n",
        "import matplotlib.pyplot as plt"
      ]
    },
    {
      "cell_type": "code",
      "execution_count": 14,
      "metadata": {
        "id": "cwulnqgKA7DS"
      },
      "outputs": [],
      "source": [
        "## DECLARAÇÃO DA FUNÇÃO\n",
        "# Cria o perceptron\n",
        "def yperceptron(W,b,X):\n",
        "  # Calcula a função aditiva, multiplicando a matriz de peso (W) pela matriz de entradas\n",
        "  u = np.dot(W,X) + b\n",
        "  # Loop for para percorrer a matriz e aplicar a função de ativação, neste caso sendo a função degrau/limiar\n",
        "  for i in range(u.shape[1]):\n",
        "      if u[0, i] >= 0:\n",
        "          u[0, i] = 1\n",
        "      else:\n",
        "          u[0, i] = 0\n",
        "  return u\n",
        "\n",
        "\n",
        "# Função de treinamento do Perceptron\n",
        "def treina_perceptron(W,b,X,yd,alfa,maxepocas,tol):\n",
        "  epoca = 1\n",
        "  N = X.shape[1] # Número de amostras na matriz de dados\n",
        "  print(f'N = {N}')\n",
        "  SEQ = tol # Declaração necessária para ultrapassar primeira validação do loop while abaixo\n",
        "  vetor_seq = []\n",
        "  while (epoca <= maxepocas and SEQ >= tol):\n",
        "    SEQ = 0\n",
        "    for i in range(0,N):\n",
        "      y = yperceptron(W,b,X[:,i])\n",
        "      erro = yd[0,i] - y\n",
        "\n",
        "      # Regra delta/Gradiente descendente\n",
        "      W = W + alfa * erro * X[:,i].T # Calcular novos pesos mais assertivos para W (.T faz o transposto da matriz)\n",
        "      b = b + alfa * erro # Calcular novo bias mais acertivo\n",
        "      SEQ = SEQ + erro**2 # Somatório dos erros quadráticos\n",
        "    print(f'SEQ = {SEQ[0]} na Epoca {epoca}')\n",
        "    epoca = epoca + 1\n",
        "    vetor_seq.append(SEQ[0])\n",
        "  W = W.reshape(1, 2)\n",
        "  return [W,b,vetor_seq]\n"
      ]
    },
    {
      "cell_type": "code",
      "execution_count": 15,
      "metadata": {
        "colab": {
          "base_uri": "https://localhost:8080/"
        },
        "id": "WjhsJQZ-BTNi",
        "outputId": "263ec6a4-0555-4090-cca4-64dd184c73ef"
      },
      "outputs": [
        {
          "name": "stdout",
          "output_type": "stream",
          "text": [
            "Número de linhas de X =  2\n",
            "Número de colunas de X =  4 \n",
            "\n",
            "N = 4\n",
            "SEQ = [3.] na Epoca 1\n",
            "SEQ = [2.] na Epoca 2\n",
            "SEQ = [3.] na Epoca 3\n",
            "SEQ = [2.] na Epoca 4\n",
            "SEQ = [1.] na Epoca 5\n",
            "SEQ = [0.] na Epoca 6\n"
          ]
        }
      ],
      "source": [
        "## DECLARAÇÃO DAS VARIÁVEIS\n",
        "# A variável X é a matriz com as entradas do Perceptron\n",
        "X = np.array([[0,1,0,1],[0,0,1,1]])\n",
        "print('Número de linhas de X = ',X.shape[0])\n",
        "print('Número de colunas de X = ',X.shape[1],'\\n')\n",
        "\n",
        "yd = np.array([[0.,0.,0.,1.]])\n",
        "\n",
        "alfa = 1.2 # O valor de alfa dita o passo em que os pesos vão sendo ajustados, ele é definido empiricamente\n",
        "maxepocas = 10\n",
        "tol = 0.001 # tol é a tolerancia máxima estabelecida para o erro\n",
        "\n",
        "W = np.array([np.random.rand(1,2)])*2-1 # A variável W é a matriz com os pesos do Perceptron com seus valores escolhidos de forma randômica entre -1 e 1 (*2-1 é a operação para mover o range do rand de 0 a 1 para -1 a 1)\n",
        "\n",
        "# A variável b é o bias, que tem o objetivo variar a influência das entradas\n",
        "b = 1\n",
        "\n",
        "W,b,vetor_seq = treina_perceptron(W,b,X,yd,alfa,maxepocas,tol)"
      ]
    },
    {
      "cell_type": "code",
      "execution_count": 16,
      "metadata": {
        "colab": {
          "base_uri": "https://localhost:8080/",
          "height": 472
        },
        "id": "Ltl83aCUHiiX",
        "outputId": "e403669a-0b8c-4158-8716-ca501b8849c4"
      },
      "outputs": [
        {
          "data": {
            "image/png": "[encoded data removed]",
            "text/plain": [
              "<Figure size 640x480 with 1 Axes>"
            ]
          },
          "metadata": {},
          "output_type": "display_data"
        }
      ],
      "source": [
        "## Plota SEQ\n",
        "plt.plot(vetor_seq,'r-')\n",
        "plt.xlabel('Epoca')\n",
        "plt.ylabel('SEQ')\n",
        "plt.title('Somatório dos Erros Quadráticos')\n",
        "plt.show()"
      ]
    },
    {
      "cell_type": "code",
      "execution_count": 17,
      "metadata": {
        "colab": {
          "base_uri": "https://localhost:8080/"
        },
        "id": "OpFT0OamBYKB",
        "outputId": "40f5fff5-f47f-4acd-feaa-3f211776823d"
      },
      "outputs": [
        {
          "name": "stdout",
          "output_type": "stream",
          "text": [
            "[[0. 0. 0. 1.]]\n"
          ]
        }
      ],
      "source": [
        "# Cálculo da saída do Perceptron\n",
        "y = yperceptron(W,b,X)\n",
        "print(y)"
      ]
    },
    {
      "cell_type": "markdown",
      "metadata": {
        "id": "a2rJhLlESeRp"
      },
      "source": [
        "**Função Lógica OR**"
      ]
    },
    {
      "cell_type": "code",
      "execution_count": 7,
      "metadata": {
        "id": "0Lhjyb8GSg60"
      },
      "outputs": [],
      "source": [
        "## DECLARAÇÃO DA FUNÇÃO\n",
        "# Cria o perceptron\n",
        "def yperceptron(W,b,X):\n",
        "  # Calcula a função aditiva, multiplicando a matriz de peso (W) pela matriz de entradas\n",
        "  u = np.dot(W,X) + b\n",
        "  # Loop for para percorrer a matriz e aplicar a função de ativação, neste caso sendo a função degrau/limiar\n",
        "  for i in range(u.shape[1]):\n",
        "      if u[0, i] >= 0:\n",
        "          u[0, i] = 1\n",
        "      else:\n",
        "          u[0, i] = 0\n",
        "  return u\n",
        "\n",
        "\n",
        "# Função de treinamento do Perceptron\n",
        "def treina_perceptron(W,b,X,yd,alfa,maxepocas,tol):\n",
        "  epoca = 1\n",
        "  N = X.shape[1] # Número de amostras na matriz de dados\n",
        "  print(f'N = {N}')\n",
        "  SEQ = tol # Declaração necessária para ultrapassar primeira validação do loop while abaixo\n",
        "  vetor_seq = []\n",
        "  while (epoca <= maxepocas and SEQ >= tol):\n",
        "    SEQ = 0\n",
        "    for i in range(0,N):\n",
        "      y = yperceptron(W,b,X[:,i])\n",
        "      erro = yd[0,i] - y\n",
        "\n",
        "      # Regra delta/Gradiente descendente\n",
        "      W = W + alfa * erro * X[:,i].T # Calcular novos pesos mais assertivos para W (.T faz o transposto da matriz)\n",
        "      b = b + alfa * erro # Calcular novo bias mais acertivo\n",
        "      SEQ = SEQ + erro**2 # Somatório dos erros quadráticos\n",
        "    print(f'SEQ = {SEQ[0]} na Epoca {epoca}')\n",
        "    epoca = epoca + 1\n",
        "    vetor_seq.append(SEQ[0])\n",
        "  W = W.reshape(1, 2)\n",
        "  return [W,b,vetor_seq]"
      ]
    },
    {
      "cell_type": "code",
      "execution_count": 8,
      "metadata": {
        "colab": {
          "base_uri": "https://localhost:8080/"
        },
        "id": "3EkPic8aSg61",
        "outputId": "e96ff67f-588a-46c1-e0f5-5a292f26738c"
      },
      "outputs": [
        {
          "name": "stdout",
          "output_type": "stream",
          "text": [
            "Número de linhas de X =  2\n",
            "Número de colunas de X =  4 \n",
            "\n",
            "N = 4\n",
            "SEQ = [2.] na Epoca 1\n",
            "SEQ = [2.] na Epoca 2\n",
            "SEQ = [1.] na Epoca 3\n",
            "SEQ = [0.] na Epoca 4\n"
          ]
        }
      ],
      "source": [
        "## DECLARAÇÃO DAS VARIÁVEIS\n",
        "# A variável X é a matriz com as entradas do Perceptron\n",
        "X = np.array([[0,1,0,1],[0,0,1,1]])\n",
        "print('Número de linhas de X = ',X.shape[0])\n",
        "print('Número de colunas de X = ',X.shape[1],'\\n')\n",
        "\n",
        "yd = np.array([[0.,1.,1.,1.]])\n",
        "\n",
        "alfa = 1.2 # O valor de alfa dita o passo em que os pesos vão sendo ajustados, ele é definido empiricamente\n",
        "maxepocas = 10\n",
        "tol = 0.001 # tol é a tolerancia máxima estabelecida para o erro\n",
        "\n",
        "W = np.array([np.random.rand(1,2)])*2-1 # A variável W é a matriz com os pesos do Perceptron com seus valores escolhidos de forma randômica entre -1 e 1 (*2-1 é a operação para mover o range do rand de 0 a 1 para -1 a 1)\n",
        "\n",
        "# A variável b é o bias, que tem o objetivo variar a influência das entradas\n",
        "b = 1\n",
        "\n",
        "W,b,vetor_seq = treina_perceptron(W,b,X,yd,alfa,maxepocas,tol)"
      ]
    },
    {
      "cell_type": "code",
      "execution_count": 9,
      "metadata": {
        "colab": {
          "base_uri": "https://localhost:8080/",
          "height": 472
        },
        "id": "-ATHZBr_Sg62",
        "outputId": "15fd4377-0bee-48b7-a9f5-3918f5d63305"
      },
      "outputs": [
        {
          "data": {
            "image/png": "[encoded data removed]",
            "text/plain": [
              "<Figure size 640x480 with 1 Axes>"
            ]
          },
          "metadata": {},
          "output_type": "display_data"
        }
      ],
      "source": [
        "## Plota SEQ\n",
        "plt.plot(vetor_seq,'b-')\n",
        "plt.xlabel('Epoca')\n",
        "plt.ylabel('SEQ')\n",
        "plt.title('Somatório dos Erros Quadráticos')\n",
        "plt.show()"
      ]
    },
    {
      "cell_type": "code",
      "execution_count": 10,
      "metadata": {
        "colab": {
          "base_uri": "https://localhost:8080/"
        },
        "id": "uq18njUGSg62",
        "outputId": "3d61f12d-08f6-4d7c-8b90-ba84912bf096"
      },
      "outputs": [
        {
          "name": "stdout",
          "output_type": "stream",
          "text": [
            "[[0. 1. 1. 1.]]\n"
          ]
        }
      ],
      "source": [
        "# Cálculo da saída do Perceptron\n",
        "y = yperceptron(W,b,X)\n",
        "print(y)"
      ]
    }
  ],
  "metadata": {
    "colab": {
      "authorship_tag": "ABX9TyPiSclezRsabLmILMLIIeA9",
      "include_colab_link": true,
      "provenance": []
    },
    "kernelspec": {
      "display_name": "Python 3",
      "name": "python3"
    },
    "language_info": {
      "name": "python"
    }
  },
  "nbformat": 4,
  "nbformat_minor": 0
}
